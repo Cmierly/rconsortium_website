{
  "cells": [
    {
      "cell_type": "raw",
      "metadata": {},
      "source": [
        "---\n",
        "title: \"Blog Guidelines\"\n",
        "about:\n",
        "  template: jolla\n",
        "format: \n",
        "  html:\n",
        "    page-layout: full\n",
        "---"
      ],
      "id": "2eb44f0f"
    },
    {
      "cell_type": "markdown",
      "metadata": {},
      "source": [
        "```{css}\n",
        "#| echo: false\n",
        "p {\n",
        "  text-align: justify\n",
        "}\n",
        "```\n",
        "\n",
        "## **R Consortium Blog Overview**\n",
        "\n",
        "The R Consortium blog will serve as a channel for the members, ISC grant recipients and the community at large to broadcast to a wide audience how their work and engagement is growing opportunities for the R language for data science and statistical computing.\n",
        "\n",
        "This may include summaries of how leading institutions, companies and developers are using, developing and advancing R. \n",
        "\n",
        "Those involved with developing, maintaining, distributing, and using R software are encouraged to contribute to the blog. \n",
        "\n",
        "Guest posts from the R Consortium community at large or projects funded by the ISC that enhance R and support users are welcomed. Updates about R-related conferences (including useR!), meetings (including SatRDays and RLadies), local user groups worldwide, new working groups or programs for R language certification and training are of interest. Other topics would certainly be considered, but it should be something of interest to the broader R community. \n",
        "\n",
        "Accepted blog posts are at the sole discretion of the R Consortium.\n",
        "\n",
        "\n",
        "## **Quality**\n",
        "\n",
        "We are looking for posts that teach and give value to our community. Blogs should include the meta-narrative that “R is a fast-growing language for statistical computing and graphics” and “the R Consoritum supports the worldwide community of users, maintainers and developers of R software.”  \n",
        "\n",
        "Guest posts must be vendor neutral, though it may mention vendors involved in specific deployment or adoption paths, or their hosting of an in-person event or speaking at an event, or other indications of meaningful participation in the community. It shouldn’t feel like an advertisement for your product, services or company though. Your post must be your content, but can be published elsewhere on the Internet with permission from that website. All content should have a byline (preferably by a company engineer) and be published under Creative Commons with Attribution, so you’re welcome to re-publish on your own blog.\n",
        "\n",
        "The most interesting posts are those that teach or show how to do something in a way maybe others haven’t thought of. Good blog posts show hurdles that were encountered and explain how they were overcome (not that everything is rainbows and unicorns). When showing upstreaming of a patch fixing an issue for others, link back to the Github issue, so readers can follow along. We don’t avoid critical commentary or broad issues, but approach them with sensitivity, professionalism and tact in a way that is beneficial and positive for the community. It would be helpful to the R Consortium to discuss how to choose between different technologies and how to accommodate different legacy issues and cloud platforms. \n",
        "\n",
        "Be interesting and inspiring! \n",
        "\n",
        "\n",
        "## **Promotion**\n",
        "\n",
        "Your blog will be shared on R Consortium’s Twitter channel. Please feel free to retweet or share. Don’t forget to share your work on your own social channels and favorite news aggregator sites. Suggested sites: Twitter, LinkedIn, Reddit, Hacker News, DZone, TechBeacon. Plus industry sites like: [https://www.r-bloggers.com/about/](https://www.r-bloggers.com/about/), [rweekly.org](https://rweekly.org/) and [reddit.com/r/rstats](https://www.reddit.com/r/rstats/).\n",
        "\n",
        "\n",
        "## **How to submit for consideration**\n",
        "\n",
        "Please submit the blog post or a brief summary and the topic of the post to r-marketing@lists.r-consortium.org (with the Subject line: “Proposed Blog: BLOG TITLE”) for consideration. The PR team will review your submission in a timely manner and provide the green light to draft the entire article or provide feedback on next steps. If you are submitting an article or presentation that already exists, please send it in its entirety with a note on the expressed permission from the owner of content. Once your submission has been approved, it will be added to our blog publishing calendar and a publish date will be provided, so you may plan to promote accordingly through your personal and company social media channels. Blog posts should be no longer than 1,000 words and no shorter than 300 words. Diagrams, code examples or photos are strongly encouraged.\n",
        "\n",
        "_This document last updated July 17, 2024_"
      ],
      "id": "781fdaac"
    }
  ],
  "metadata": {
    "kernelspec": {
      "display_name": "Python 3",
      "language": "python",
      "name": "python3"
    }
  },
  "nbformat": 4,
  "nbformat_minor": 5
}